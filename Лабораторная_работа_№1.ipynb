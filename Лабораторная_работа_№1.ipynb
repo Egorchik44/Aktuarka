{
 "cells": [
  {
   "cell_type": "markdown",
   "metadata": {},
   "source": [
    "## Лабораторная работа ##"
   ]
  },
  {
   "cell_type": "markdown",
   "metadata": {},
   "source": [
    "### Постановка задачи ###"
   ]
  },
  {
   "cell_type": "markdown",
   "metadata": {},
   "source": [
    "Смоделируйте число страховых случаев, наступающих в портфеле из $N$ договоров страхования, эмпирическое распределение которых представлено в таблице, с помощью:\n",
    "* распределения Пуассона;\n",
    "* смешанного пуассоновского гамма-распределения;\n",
    "* смешанного пуассоновского обратного гауссовского распределения;\n",
    "* модели Лемера \"хорошие - плохие риски\" \n",
    "\n",
    "|Количество страховых случаев | Количество договоров |\n",
    ":--------:|:-------:\n",
    "| $k_1$ | $m_1$ |\n",
    "| $k_2$ | $m_2$ |\n",
    "| $k_3$ | $m_3$ |\n",
    "|. . .  | . . . |\n",
    "| $k_n$ | $m_n$ |"
   ]
  },
  {
   "cell_type": "markdown",
   "metadata": {},
   "source": [
    "## Решение ##"
   ]
  },
  {
   "cell_type": "markdown",
   "metadata": {},
   "source": [
    "### Реализованы следующие функци ###"
   ]
  },
  {
   "cell_type": "code",
   "execution_count": 1,
   "metadata": {},
   "outputs": [],
   "source": [
    "import math\n",
    "import pandas as pd\n",
    "import scipy.stats as stats\n",
    "import numpy as np"
   ]
  },
  {
   "cell_type": "markdown",
   "metadata": {},
   "source": [
    "1. `get_poisson_params(df)` - принимает на вход исходную таблицу с данными (формат pandas\n",
    "DataFrame) и возвращает параметр $\\overline\\lambda$ пуассоновского распределения.\n",
    "\n",
    "$\\lambda_{\\text{e}} = \\frac{1}{n} \\sum_{i=1}^{n} (k_i \\cdot m_i)$"
   ]
  },
  {
   "cell_type": "code",
   "execution_count": 2,
   "metadata": {},
   "outputs": [],
   "source": [
    "def get_poisson_params(df):\n",
    "    return sum(df['k'] * df['m']) / sum(df['m'])"
   ]
  },
  {
   "cell_type": "markdown",
   "metadata": {},
   "source": [
    "2. `get_poisson_gamma_params(df)` - принимает на вход исходную таблицу с данными (формат pandas\n",
    "DataFrame) и возвращает параметры $\\overline a$ и $\\overline  b$ смешанного пуассоновского гамма-распределения.<br>\n",
    "\n",
    "$k_{\\text{e}} = \\frac{1}{n} \\sum_{i=1}^{n} (k_i \\cdot m_i)$\n",
    "\n",
    "$k_{\\text{square(e)}} = \\frac{1}{n} \\sum_{i=1}^{n} (k_i^2 \\cdot m_i)$\n",
    "\n",
    "$S_{\\text{square(k)}} = k_{\\text{square(e)}} - k_{\\text{e}}^2$\n",
    "\n",
    "$a_{\\text{e}} = \\frac{k_{\\text{e}}^2}{S_{\\text{square(k)}} - k_{\\text{e}}}$\n",
    "\n",
    "$b_{\\text{e}} = \\frac{k_{\\text{e}}}{S_{\\text{square(k)}} - k_{\\text{e}}}$"
   ]
  },
  {
   "cell_type": "code",
   "execution_count": 3,
   "metadata": {},
   "outputs": [],
   "source": [
    "def get_poisson_gamma_params(df):\n",
    "    n = sum(df['m'])\n",
    "\n",
    "    k_e = sum(df['k'] * df['m']) / n\n",
    "    k_square_e = sum(df['k'] ** 2 * df['m']) / n\n",
    "    S_square_k = k_square_e - k_e**2\n",
    "    \n",
    "\n",
    "    a_e = k_e**2/(S_square_k - k_e)\n",
    "    b_e = k_e/(S_square_k - k_e)\n",
    "    \n",
    "    return a_e, b_e"
   ]
  },
  {
   "cell_type": "markdown",
   "metadata": {},
   "source": [
    "3. `get_poisson_gaussian_params(df)` - принимает на вход исходную таблицу с данными (формат pandas\n",
    "DataFrame) и возвращает параметры $\\overline g$ и $\\overline  h$ смешанного пуассоновского обратного гауссовского рас\n",
    "пределения.\n",
    "\n",
    "$n = \\sum_{i=1}^{n} m_i$\n",
    "\n",
    "$k_{\\text{e}} = \\frac{1}{n} \\sum_{i=1}^{n} (k_i \\cdot m_i)$\n",
    "\n",
    "$k_{\\text{square(e)}} = \\frac{1}{n} \\sum_{i=1}^{n} (k_i^2 \\cdot m_i)$\n",
    "\n",
    "$S_{\\text{square(k)}} = k_{\\text{square(e)}} - k_{\\text{e}}^2$\n",
    "\n",
    "$g_{\\text{e}} = k_{\\text{e}}$\n",
    "\n",
    "$h_{\\text{e}} = \\left( \\frac{S_{\\text{square(k)}}}{k_{\\text{e}}} \\right) - 1$\n"
   ]
  },
  {
   "cell_type": "code",
   "execution_count": 4,
   "metadata": {},
   "outputs": [],
   "source": [
    "def get_poisson_gaussian_params(df):\n",
    "    n = sum(df['m'])\n",
    "\n",
    "\n",
    "    k_e = sum(df['k'] * df['m']) / n\n",
    "    k_square_e = sum(df['k'] ** 2 * df['m']) / n\n",
    "    S_square_k = k_square_e - k_e**2\n",
    "\n",
    "\n",
    "    g_e = k_e\n",
    "    h_e = (S_square_k / k_e) - 1 \n",
    "    \n",
    "    return g_e, h_e"
   ]
  },
  {
   "cell_type": "markdown",
   "metadata": {},
   "source": [
    "4. `get_lemaire_params(df)` - принимает на вход исходную таблицу с данными (формат pandas\n",
    "DataFrame и возвращает параметры $\\overline{a_1}$, $\\overline{\\lambda_1}$ и $\\overline{\\lambda_2}$ модели Лемера.\n",
    "\n",
    "$\\lambda_{1,2(\\text{e})} = \\frac{A \\pm \\sqrt{A^2 - 4 \\cdot B}}{2}$\n",
    "\n",
    "$a_{1 (\\text{e})} = \\frac{a - \\lambda_{2(\\text{e})}}{\\lambda_{1 (\\text{e})} - \\lambda_{2 (\\text{e})}}$"
   ]
  },
  {
   "cell_type": "code",
   "execution_count": 5,
   "metadata": {},
   "outputs": [],
   "source": [
    "def get_lemaire_params(df):\n",
    "    n = sum(df['m'])\n",
    "    \n",
    "    k_e = sum(df['k'] * df['m']) / n\n",
    "    k_square_e = sum(df['k'] ** 2 * df['m']) / n\n",
    "    k_cubic_e = sum(df['k'] ** 3 * df['m']) / n\n",
    "\n",
    "    a = k_e\n",
    "    b = k_square_e - k_e\n",
    "    c = k_cubic_e - 3 * k_square_e + 2 * k_e\n",
    "    A = (c - a * b) / (b - a ** 2)\n",
    "    B = (a * c - b ** 2) / (b - a ** 2)\n",
    "\n",
    "  \n",
    "    λ1_e = (A - np.sqrt(A**2 - 4 * B)) / 2\n",
    "    λ2_e = (A + np.sqrt(A**2 - 4 * B)) / 2\n",
    "    a1_e = (a - λ2_e) / (λ1_e - λ2_e)\n",
    "    \n",
    "    return a1_e, λ1_e, λ2_e"
   ]
  },
  {
   "cell_type": "markdown",
   "metadata": {},
   "source": [
    "5. Функция, которые для каждого из распределений принимают на вход исходные данные, а также найденные параметры и возвращают таблицу (формат pandas DataFrame) с исходными данными и теоретическими вероятностями $p^t_i$ частотами $m^t_i$(итоговая, т.е. после схлопывания строк с объемом\n",
    "менее 5):\n",
    "* `get_poisson_data`(df, $\\lambda$)\n",
    "\n",
    "$p_k = \\frac{e^{-\\lambda_{(\\text{e})}} \\cdot \\lambda_{(\\text{e})}^k}{k!}$\n",
    "\n",
    "$m_{\\text{e}} = n \\cdot p_k$\n",
    "\n",
    "* `get_poisson_gamma_data`(df, $\\overline a$, $\\overline b$)\n",
    "\n",
    "$p_k = C_{k+a+1}^k \\cdot \\left( p^a \\cdot (1 - p)^k \\right)$, где $p = \\frac{1}{1 + b}$\n",
    "\n",
    "$m_{\\text{e}} = n \\cdot p_k$\n",
    "\n",
    "* `get_poisson_gaussian_data`(df, $\\overline g$, $\\overline h$)\n",
    "\n",
    "Для $k = 0$:\n",
    "\n",
    "   $p_0 = e^{\\frac{g_{\\text{e}} \\cdot (1 - \\sqrt{1 + 2h_{\\text{e}}})}{h_{\\text{e}}}}$\n",
    "\n",
    "Для $k = 1$:\n",
    "\n",
    "   $p_1 = p_0 \\cdot \\frac{g_{\\text{e}}}{\\sqrt{1 + 2h_{\\text{e}}}}$\n",
    "\n",
    "Для $k > 1$:\n",
    "\n",
    "   $p_k = \\frac{p_{k-1} \\cdot h_{\\text{e}} \\cdot (k-1) \\cdot (2k-3) + p_{k-2} \\cdot g_{\\text{e}}^2}{(1 + 2h_{\\text{e}}) \\cdot k \\cdot (k-1)}$\n",
    "   \n",
    "\n",
    "$m_{\\text{e}} = n \\cdot p_k$\n",
    "\n",
    "* `get_lemaire_data`(df, $\\overline{a_1}$, $\\overline{\\lambda_1}$, $\\overline{\\lambda_2}$)\n",
    "\n",
    "$a_{2 (\\text{e})} = 1 - a_{1 (\\text{e})}$\n",
    "\n",
    "$p_k = a_{1 (\\text{e})} \\cdot \\frac{e^{-\\lambda_{1 (\\text{e})}} \\cdot \\lambda_{1 (\\text{e})}^k}{k!} + a_{2 (\\text{e})} \\cdot \\frac{e^{-\\lambda_{2 (\\text{e})}} \\cdot \\lambda_{2 (\\text{e})}^k}{k!}$\n",
    "\n",
    "$m_{\\text{e}} = n \\cdot p_k$"
   ]
  },
  {
   "cell_type": "code",
   "execution_count": 6,
   "metadata": {},
   "outputs": [],
   "source": [
    "def xlop(df):\n",
    "    if (len(df) < 4):\n",
    "        return df\n",
    "    result = df.copy()\n",
    "    \n",
    "    while len(result) > 1 and result.iloc[-1]['m'] < 5:\n",
    "        last_but_one_idx = result.index[-2]\n",
    "        for column in result.columns:\n",
    "            result.loc[last_but_one_idx, column] += result.iloc[-1][column]\n",
    "        result = result.drop(result.index[-1])\n",
    "    \n",
    "    return result\n",
    "\n",
    "# def xlop(df):\n",
    "#     if len(df) < 4:\n",
    "#         return df\n",
    "    \n",
    "#     # Создаем копию DataFrame\n",
    "#     result = df.copy()\n",
    "    \n",
    "#     # Объединяем строки, где 'm' < 5, с предыдущей строкой\n",
    "#     while (result['m'] < 5).any():\n",
    "#         # Находим индексы строк, где 'm' < 5\n",
    "#         idx_to_merge = result[result['m'] < 5].index\n",
    "#         if len(idx_to_merge) == 0:\n",
    "#             break\n",
    "        \n",
    "#         # Объединяем последнюю строку с предыдущей\n",
    "#         last_idx = idx_to_merge[-1]\n",
    "#         prev_idx = last_idx - 1\n",
    "        \n",
    "#         # Суммируем значения в строках\n",
    "#         result.loc[prev_idx, 'm'] += result.loc[last_idx, 'm']\n",
    "#         result.loc[prev_idx, 'k'] = result.loc[prev_idx, 'k']  # Можно оставить предыдущее значение 'k'\n",
    "        \n",
    "#         # Удаляем последнюю строку\n",
    "#         result = result.drop(last_idx)\n",
    "    \n",
    "#     return result\n",
    "\n",
    "# def get_poisson_data(df, λ_e):\n",
    "#     poisson_data = df.copy()\n",
    "#     n = sum(df['m'])\n",
    "    \n",
    "#     poisson_data['p'] = stats.poisson.pmf(df['k'], λ_e)\n",
    "#     poisson_data['m_e'] = round(poisson_data['p'] * n)\n",
    "\n",
    "#     return xlop(poisson_data)\n",
    "\n",
    "\n",
    "# def get_poisson_gamma_data(df, a_e, b_e):\n",
    "#     poisson_gamma_data = df.copy()\n",
    "#     n = sum(df['m'])\n",
    "    \n",
    "#     poisson_gamma_data['p'] = stats.nbinom.pmf(df['k'], \n",
    "#                                                a_e, b_e / (1 + b_e))\n",
    "\n",
    "#     poisson_gamma_data['m_e'] = round(poisson_gamma_data['p'] * n)\n",
    "    \n",
    "#     return poisson_gamma_data\n",
    "\n",
    "\n",
    "\n",
    "# def get_poisson_gaussian_data(df, g_e, h_e):\n",
    "#     poisson_gaussian_data = df.copy()\n",
    "#     n = sum(df['m'])\n",
    "    \n",
    "\n",
    "#     p = np.zeros(df['k'].max() + 1)\n",
    "#     for k in range(0, p.size):\n",
    "#         if (k == 0):\n",
    "#             p[0] = np.exp(g_e * (1 - np.sqrt(1 + 2 * h_e)) / h_e)\n",
    "#         elif (k == 1):\n",
    "#             p[1] = p[0] * g_e / np.sqrt(1 + 2 * h_e)\n",
    "#         else:\n",
    "#             p[k] = ((p[k - 1] * h_e * (k - 1) * (2 * k - 3) + \n",
    "#                     p[k - 2] * g_e * g_e)) / \\\n",
    "#                         ((1 + 2 * h_e) * k * (k - 1))\n",
    "    \n",
    "#     poisson_gaussian_data['p'] = p[df['k']]\n",
    "#     poisson_gaussian_data['m_e'] = round(poisson_gaussian_data['p'] * n)\n",
    "    \n",
    "#     return xlop(poisson_gaussian_data)\n",
    "\n",
    "\n",
    "# def get_lemaire_data(df, a1_e, λ1_e, λ2_e):\n",
    "#     lemaire_data = df.copy()\n",
    "#     n = sum(df['m'])\n",
    "\n",
    "#     a2_e = 1 - a1_e\n",
    "    \n",
    " \n",
    "#     lemaire_data['p'] = a1_e * stats.poisson.pmf(df['k'], λ1_e) + \\\n",
    "#                     (a2_e) * stats.poisson.pmf(df['k'], λ2_e)\n",
    "#     lemaire_data['m_e'] = round(lemaire_data['p'] * n)\n",
    "    \n",
    "#     return xlop(lemaire_data)"
   ]
  },
  {
   "cell_type": "code",
   "execution_count": 19,
   "metadata": {},
   "outputs": [],
   "source": [
    "def calculate_m_e_and_xlop(df, p_column):\n",
    "    n = sum(df['m'])\n",
    "    df['m_e'] = round(df[p_column] * n)\n",
    "    return xlop(df)\n",
    "\n",
    "def get_poisson_data(df, λ_e):\n",
    "    \"\"\"\n",
    "    Вычисляет теоретические вероятности и частоты для распределения Пуассона.\n",
    "    \n",
    "    Параметры:\n",
    "    - df: DataFrame с исходными данными.\n",
    "    - λ_e: Параметр распределения Пуассона.\n",
    "    \n",
    "    Возвращает:\n",
    "    - DataFrame с теоретическими вероятностями и частотами.\n",
    "    \"\"\"\n",
    "    if (df['k'] < 0).any() or (df['m'] < 0).any():\n",
    "        raise ValueError(\"Значения 'k' и 'm' должны быть неотрицательными.\")\n",
    "    \n",
    "    poisson_data = df.copy()\n",
    "    poisson_data['p'] = stats.poisson.pmf(df['k'], λ_e)\n",
    "    return calculate_m_e_and_xlop(poisson_data, 'p')\n",
    "\n",
    "def get_poisson_gamma_data(df, a_e, b_e):\n",
    "    poisson_gamma_data = df.copy()\n",
    "    poisson_gamma_data['p'] = stats.nbinom.pmf(df['k'], a_e, b_e / (1 + b_e))\n",
    "    return calculate_m_e_and_xlop(poisson_gamma_data, 'p')\n",
    "\n",
    "def get_poisson_gaussian_data(df, g_e, h_e):\n",
    "    poisson_gaussian_data = df.copy()\n",
    "    max_k = df['k'].max()\n",
    "    p = np.zeros(max_k + 1)\n",
    "    \n",
    "    # Вычисление вероятностей\n",
    "    p[0] = np.exp(g_e * (1 - np.sqrt(1 + 2 * h_e)) / h_e)\n",
    "    if max_k >= 1:\n",
    "        p[1] = p[0] * g_e / np.sqrt(1 + 2 * h_e)\n",
    "    for k in range(2, max_k + 1):\n",
    "        p[k] = ((p[k - 1] * h_e * (k - 1) * (2 * k - 3) + \n",
    "                 p[k - 2] * g_e * g_e)) / \\\n",
    "                ((1 + 2 * h_e) * k * (k - 1))\n",
    "    \n",
    "    poisson_gaussian_data['p'] = p[df['k']]\n",
    "    return calculate_m_e_and_xlop(poisson_gaussian_data, 'p')\n",
    "\n",
    "def get_lemaire_data(df, a1_e, λ1_e, λ2_e):\n",
    "    lemaire_data = df.copy()\n",
    "    a2_e = 1 - a1_e\n",
    "    lemaire_data['p'] = a1_e * stats.poisson.pmf(df['k'], λ1_e) + \\\n",
    "                        a2_e * stats.poisson.pmf(df['k'], λ2_e)\n",
    "    return calculate_m_e_and_xlop(lemaire_data, 'p')"
   ]
  },
  {
   "cell_type": "markdown",
   "metadata": {},
   "source": [
    "6. Функция `get_pvalue(df_new)`, которая принимает на вход новый DataFrame и возвращает значение $p_{value}$.\n",
    "\n",
    "$\\chi^2 = \\sum_{i} \\frac{(m_i - m_{\\text{e}})^2}{m_{\\text{e}}}$\n",
    "\n",
    "$p_{value} = 1 - \\text{CDF}_{\\chi^2}(\\chi^2, \\text{df})$\n"
   ]
  },
  {
   "cell_type": "code",
   "execution_count": 8,
   "metadata": {},
   "outputs": [],
   "source": [
    "def get_pvalue(df_new, params_count):\n",
    "    df_filtered = df_new[df_new['m_e'] > 0]\n",
    "\n",
    "    χ_square = sum((df_filtered['m'] - df_filtered['m_e'])**2 / df_filtered['m_e'])\n",
    "    m = params_count\n",
    "    df = len(df_filtered) - m - 1\n",
    "    p_value = 1 - stats.chi2.cdf(x = χ_square, df = df)\n",
    "    \n",
    "    return p_value"
   ]
  },
  {
   "cell_type": "markdown",
   "metadata": {},
   "source": [
    "6. Функция `get_result(α, p_value_poisson, p_value_poisson_gamma, p_value_poisson_gaussian,\n",
    "p_value_lemaire)`, которая принимает на вход уровень значимости и возвращает таблицу с тремя полями:\n",
    "\n",
    "| Название метода       |$p_{value}$| Рейтинг модели |\n",
    "|-----------------------|---------|----------------|\n",
    "|       Пуассон         |         |                |\n",
    "|       Пуассон-Гамма   |         |                |\n",
    "|       Пуассон-Гаусс   |         |                |\n",
    "|       Лемер           |         |                |\n",
    "\n",
    "- Название метода\n",
    "- $p_{value}$\n",
    "- Рейтинг модели: 1 - самая лучшая. Если модель не подходит по критерию Пирсона, то вместо рейтинга - \"Не подходит\"."
   ]
  },
  {
   "cell_type": "code",
   "execution_count": 9,
   "metadata": {},
   "outputs": [],
   "source": [
    "def get_result(α, p_value_poisson, p_value_poisson_gamma, p_value_poisson_gaussian, p_value_lemaire):\n",
    "    results = pd.DataFrame({\n",
    "        'Метод': ['Пуассон', 'Пуассон-Гамма', 'Пуассон-Гаусс', 'Лемер'],\n",
    "        'p_value': [p_value_poisson, \n",
    "                    p_value_poisson_gamma, \n",
    "                    p_value_poisson_gaussian, \n",
    "                    p_value_lemaire]\n",
    "    })\n",
    "    \n",
    "    results['Рейтинг'] = 'Не подходит'\n",
    "    suitable_models = results[results['p_value'] > α].sort_values('p_value', ascending=False)\n",
    "    \n",
    "    if len(suitable_models) > 0:\n",
    "        for i, idx in enumerate(suitable_models.index):\n",
    "            results.loc[idx, 'Рейтинг'] = i + 1\n",
    "    def format_p_value(p_value):\n",
    "        return f'{p_value:.12f}'\n",
    "\n",
    "    results['p_value'] = results['p_value'].apply(format_p_value)\n",
    "\n",
    "    return results"
   ]
  },
  {
   "cell_type": "markdown",
   "metadata": {},
   "source": [
    "### Проверка на данных из лекции (до схлопывания строк) ###"
   ]
  },
  {
   "cell_type": "markdown",
   "metadata": {},
   "source": [
    "#### Распределение Пуассона ####"
   ]
  },
  {
   "cell_type": "code",
   "execution_count": 10,
   "metadata": {},
   "outputs": [
    {
     "name": "stdout",
     "output_type": "stream",
     "text": [
      " k     m\n",
      " 0 29196\n",
      " 1   184\n",
      " 2     2\n",
      "\n",
      "λ_e = 0.006398475256960043\n",
      "\n",
      " k     m        p     m_e\n",
      " 0 29196 0.993622 29195.0\n",
      " 1   184 0.006358   187.0\n",
      " 2     2 0.000020     1.0\n",
      "\n",
      "p_value = 0.3059306375947972\n",
      "\n"
     ]
    }
   ],
   "source": [
    "df = pd.DataFrame({\n",
    "    'k': [0, 1, 2],\n",
    "    'm': [29196, 184, 2]\n",
    "})\n",
    "print(df.to_string(index=False), end=\"\\n\\n\")\n",
    "\n",
    "λ_e = get_poisson_params(df)\n",
    "print(\"λ_e =\", λ_e, end=\"\\n\\n\")\n",
    "\n",
    "poisson_data = get_poisson_data(df, λ_e)\n",
    "print(poisson_data.to_string(index=False), end=\"\\n\\n\")\n",
    "\n",
    "p_value = get_pvalue(poisson_data, 1)\n",
    "print(\"p_value =\", p_value, end=\"\\n\\n\")\n"
   ]
  },
  {
   "cell_type": "markdown",
   "metadata": {},
   "source": [
    "#### Смешанное пуассоновское-гамма распределение ####"
   ]
  },
  {
   "cell_type": "code",
   "execution_count": 11,
   "metadata": {},
   "outputs": [
    {
     "name": "stdout",
     "output_type": "stream",
     "text": [
      " k    m\n",
      " 0 1624\n",
      " 1  490\n",
      " 2  208\n",
      " 3   98\n",
      " 4   48\n",
      " 5   23\n",
      " 6   10\n",
      " 7    5\n",
      " 8    3\n",
      " 9    2\n",
      "10    1\n",
      "\n",
      "a = 0.5845911753468382\n",
      "b = 0.8878434295473141\n",
      "\n",
      " k    m        p    m_e\n",
      " 0 1624 0.643385 1616.0\n",
      " 1  490 0.199231  500.0\n",
      " 2  208 0.083614  210.0\n",
      " 3   98 0.038158   96.0\n",
      " 4   48 0.018113   46.0\n",
      " 5   23 0.008798   22.0\n",
      " 6   10 0.004337   11.0\n",
      " 7    5 0.002161    5.0\n",
      "27    6 0.001912    5.0\n",
      "\n",
      "p_value = 0.9939666432602774\n",
      "\n"
     ]
    }
   ],
   "source": [
    "df = pd.DataFrame({\n",
    "    'k': [0, 1, 2, 3, 4, 5, 6, 7, 8, 9, 10],\n",
    "    'm': [1624, 490, 208, 98, 48, 23, 10, 5, 3, 2, 1]\n",
    "})\n",
    "print(df.to_string(index=False), end=\"\\n\\n\")\n",
    "\n",
    "a_e, b_e = get_poisson_gamma_params(df)\n",
    "print(\"a =\", a_e)\n",
    "print(\"b =\", b_e, end=\"\\n\\n\")\n",
    "\n",
    "poisson_gamma_data = get_poisson_gamma_data(df, a_e, b_e)\n",
    "print(poisson_gamma_data.to_string(index=False), end=\"\\n\\n\")\n",
    "\n",
    "p_value = get_pvalue(poisson_gamma_data, 2)\n",
    "print(\"p_value =\", p_value, end=\"\\n\\n\")\n"
   ]
  },
  {
   "cell_type": "markdown",
   "metadata": {},
   "source": [
    "#### Смешанное пуассоновское - обратное гауссовское распределение ####"
   ]
  },
  {
   "cell_type": "code",
   "execution_count": 12,
   "metadata": {},
   "outputs": [
    {
     "name": "stdout",
     "output_type": "stream",
     "text": [
      " k      m\n",
      " 0 205925\n",
      " 1   9940\n",
      " 2   1054\n",
      " 3    114\n",
      " 4     13\n",
      "\n",
      "g = 0.05732425384480709\n",
      "h = 0.17961514496567355\n",
      "\n",
      " k      m        p      m_e\n",
      " 0 205925 0.948442 205856.0\n",
      " 1   9940 0.046634  10122.0\n",
      " 2   1054 0.004228    918.0\n",
      " 3    114 0.000577    125.0\n",
      " 4     13 0.000096     21.0\n",
      "\n",
      "p_value = 1.0896157963680153e-06\n",
      "\n"
     ]
    }
   ],
   "source": [
    "df = pd.DataFrame({\n",
    "        'k': [0, 1, 2, 3, 4],\n",
    "        'm': [205925, 9940, 1054, 114, 13]\n",
    "})\n",
    "print(df.to_string(index=False), end=\"\\n\\n\")\n",
    "\n",
    "g_e, h_e = get_poisson_gaussian_params(df)\n",
    "print(\"g =\", g_e)\n",
    "print(\"h =\", h_e, end=\"\\n\\n\")\n",
    "\n",
    "poisson_gaussian_data = get_poisson_gaussian_data(df, g_e, h_e)\n",
    "print(poisson_gaussian_data.to_string(index=False), end=\"\\n\\n\")\n",
    "\n",
    "p_value = get_pvalue(poisson_gaussian_data, 2)\n",
    "print(\"p_value =\", p_value, end=\"\\n\\n\")\n"
   ]
  },
  {
   "cell_type": "markdown",
   "metadata": {},
   "source": [
    "#### Смешанное Лемера \"хорошие - плохие риски\"  ####"
   ]
  },
  {
   "cell_type": "code",
   "execution_count": 16,
   "metadata": {},
   "outputs": [
    {
     "name": "stdout",
     "output_type": "stream",
     "text": [
      " k      m\n",
      " 0 205925\n",
      " 1   9940\n",
      " 2   1054\n",
      " 3    114\n",
      " 4     13\n",
      "\n",
      "a1 = 0.8914720976725681\n",
      "λ1 = 0.021919831822791308\n",
      "λ2 = 0.3481439756858097\n",
      "\n",
      " k      m        p      m_e\n",
      " 0 205925 0.948764 205925.0\n",
      " 1   9940 0.045792   9939.0\n",
      " 2   1054 0.004853   1053.0\n",
      " 3    114 0.000540    117.0\n",
      " 4     13 0.000047     10.0\n",
      "\n",
      "p_value = 0.32269966404264216\n",
      "\n"
     ]
    }
   ],
   "source": [
    "df = pd.DataFrame({\n",
    "        'k': [0, 1, 2, 3, 4],\n",
    "        'm': [205925, 9940, 1054, 114, 13]\n",
    "})\n",
    "print(df.to_string(index=False), end=\"\\n\\n\")\n",
    "\n",
    "a1_e, λ1_e, λ2_e = get_lemaire_params(df)\n",
    "print(\"a1 =\", a1_e)\n",
    "print(\"λ1 =\", λ1_e)\n",
    "print(\"λ2 =\", λ2_e, end=\"\\n\\n\")\n",
    "\n",
    "lemaire_data = get_lemaire_data(df, a1_e, λ1_e, λ2_e)\n",
    "print(lemaire_data.to_string(index=False), end=\"\\n\\n\")\n",
    "\n",
    "p_value = get_pvalue(lemaire_data, 3)\n",
    "print(\"p_value =\", p_value, end=\"\\n\\n\")\n",
    "\n"
   ]
  },
  {
   "cell_type": "markdown",
   "metadata": {},
   "source": [
    "## Пример работы программы ##"
   ]
  },
  {
   "cell_type": "markdown",
   "metadata": {},
   "source": [
    "### Проверка на данных их книги (после схлопывания строк) ###"
   ]
  },
  {
   "cell_type": "code",
   "execution_count": 14,
   "metadata": {},
   "outputs": [
    {
     "data": {
      "text/html": [
       "<div>\n",
       "<style scoped>\n",
       "    .dataframe tbody tr th:only-of-type {\n",
       "        vertical-align: middle;\n",
       "    }\n",
       "\n",
       "    .dataframe tbody tr th {\n",
       "        vertical-align: top;\n",
       "    }\n",
       "\n",
       "    .dataframe thead th {\n",
       "        text-align: right;\n",
       "    }\n",
       "</style>\n",
       "<table border=\"1\" class=\"dataframe\">\n",
       "  <thead>\n",
       "    <tr style=\"text-align: right;\">\n",
       "      <th></th>\n",
       "      <th>Метод</th>\n",
       "      <th>p_value</th>\n",
       "      <th>Рейтинг</th>\n",
       "    </tr>\n",
       "  </thead>\n",
       "  <tbody>\n",
       "    <tr>\n",
       "      <th>0</th>\n",
       "      <td>Пуассон</td>\n",
       "      <td>0.000000000000</td>\n",
       "      <td>Не подходит</td>\n",
       "    </tr>\n",
       "    <tr>\n",
       "      <th>1</th>\n",
       "      <td>Пуассон-Гамма</td>\n",
       "      <td>0.198921613852</td>\n",
       "      <td>2</td>\n",
       "    </tr>\n",
       "    <tr>\n",
       "      <th>2</th>\n",
       "      <td>Пуассон-Гаусс</td>\n",
       "      <td>0.000001089616</td>\n",
       "      <td>Не подходит</td>\n",
       "    </tr>\n",
       "    <tr>\n",
       "      <th>3</th>\n",
       "      <td>Лемер</td>\n",
       "      <td>0.322699664043</td>\n",
       "      <td>1</td>\n",
       "    </tr>\n",
       "  </tbody>\n",
       "</table>\n",
       "</div>"
      ],
      "text/plain": [
       "           Метод         p_value      Рейтинг\n",
       "0        Пуассон  0.000000000000  Не подходит\n",
       "1  Пуассон-Гамма  0.198921613852            2\n",
       "2  Пуассон-Гаусс  0.000001089616  Не подходит\n",
       "3          Лемер  0.322699664043            1"
      ]
     },
     "execution_count": 14,
     "metadata": {},
     "output_type": "execute_result"
    }
   ],
   "source": [
    "df = pd.DataFrame({\n",
    "        'k': [0, 1, 2, 3, 4],\n",
    "        'm': [205925, 9940, 1054, 114, 13]\n",
    "})\n",
    "\n",
    "α = 0.05\n",
    "\n",
    "λ = get_poisson_params(df)\n",
    "a, b = get_poisson_gamma_params(df)\n",
    "g, h = get_poisson_gaussian_params(df)\n",
    "a1, λ1, λ2 = get_lemaire_params(df)\n",
    "\n",
    "result = get_result(\n",
    "    α,\n",
    "    get_pvalue(\n",
    "        get_poisson_data(df, λ), 1),\n",
    "    get_pvalue(\n",
    "        get_poisson_gamma_data(df, a, b), 2),\n",
    "    get_pvalue(\n",
    "        get_poisson_gaussian_data(df, g, h), 2),\n",
    "    get_pvalue(\n",
    "        get_lemaire_data(df, a1, λ1, λ2), 3)\n",
    ")\n",
    "result"
   ]
  },
  {
   "cell_type": "code",
   "execution_count": null,
   "metadata": {},
   "outputs": [],
   "source": []
  }
 ],
 "metadata": {
  "kernelspec": {
   "display_name": "Python 3 (ipykernel)",
   "language": "python",
   "name": "python3"
  },
  "language_info": {
   "codemirror_mode": {
    "name": "ipython",
    "version": 3
   },
   "file_extension": ".py",
   "mimetype": "text/x-python",
   "name": "python",
   "nbconvert_exporter": "python",
   "pygments_lexer": "ipython3",
   "version": "3.11.5"
  }
 },
 "nbformat": 4,
 "nbformat_minor": 2
}
